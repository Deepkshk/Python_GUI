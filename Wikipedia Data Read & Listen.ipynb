{
 "cells": [
  {
   "cell_type": "markdown",
   "id": "cb4ea1d0-2aa1-4797-ab96-4f8499c32107",
   "metadata": {},
   "source": [
    "## Wikipedia Data Read & Listen GUI Program"
   ]
  },
  {
   "cell_type": "code",
   "execution_count": 1,
   "id": "604c7a3a-230b-4f7c-9427-9c36a1c65a29",
   "metadata": {},
   "outputs": [],
   "source": [
    "# Import required Libraries\n",
    "from tkinter import *\n",
    "import wikipedia\n",
    "import pyttsx3"
   ]
  },
  {
   "cell_type": "code",
   "execution_count": 2,
   "id": "6a63fc9b-b11d-42c0-9388-4b33be60e7f0",
   "metadata": {},
   "outputs": [],
   "source": [
    "# Create GUI Window or Screen\n",
    "win=Tk()\n",
    "win.configure(bg='black')\n",
    "win.state('zoomed')\n",
    "win.resizable(width=False,height=False)\n",
    "\n",
    "# create Label for main Title\n",
    "titlelbl=Label(win,text='Search & Read / Listen',font=('arial',45,'bold'),bg='black',fg='#e3be1b')\n",
    "titlelbl.place(relx=0.3,rely=0)\n",
    "\n",
    "# Function of Read button\n",
    "def search():\n",
    "    try:        \n",
    "        textlbl=Label(win,text=wikipedia.summary(wordentry.get(),sentences=8),font=('arial',12,'bold'),bg='black',fg='white',wraplength=1300,justify='left')\n",
    "        textlbl.place(relx=.02,rely=.6)\n",
    "    except:\n",
    "        rsltlbl=Label(win,text='Not found or Maybe Multiple records found',font=('arial',20,'bold'),bg='black',fg='white')\n",
    "        rsltlbl.place(relx=.24,rely=.65)\n",
    "\n",
    "# Function of Listen button\n",
    "def listen():    \n",
    "    try:\n",
    "        assistant=pyttsx3.init()\n",
    "        rate=assistant.getProperty('rate')\n",
    "        assistant.setProperty('rate', 130) # set speech speed\n",
    "        volume=assistant.getProperty('volume')\n",
    "        assistant.setProperty('volume', 0.8) # set speech volume\n",
    "        voices=assistant.getProperty('voices')\n",
    "        assistant.setProperty('voice', voices[1].id) # 1 for female\n",
    "        #assistant.setProperty('voice', voices[0].id) # 0 for male\n",
    "\n",
    "        assistant.say(wikipedia.summary(wordentry.get(),sentences=8))\n",
    "        assistant.runAndWait()\n",
    "        \n",
    "    except:\n",
    "        rsltlbl=Label(win,text='Not found or Maybe Multiple records found',font=('arial',20,'bold'),bg='black',fg='white')\n",
    "        rsltlbl.place(relx=.24,rely=.65)\n",
    "    \n",
    "    \n",
    "# Create Label for Search question or text\n",
    "wordlbl=Label(win,text='Enter something to search on Wikipedia: ',font=('arial',20,'bold'),bg='black',fg='white')\n",
    "wordlbl.place(relx=0.06,rely=.3)\n",
    "\n",
    "# Create text box for \"anyword\" for search in Wikipedia\n",
    "wordentry=Entry(win,font=('arial',20,'bold'),bd=5,width=25,fg='#ffffff',bg='#000000')\n",
    "wordentry.place(relx=.5,rely=.3)\n",
    "\n",
    "# Create Read button\n",
    "readbtn=Button(win,text='Read',font=('arial',20,'bold'),bd=7,width=15,fg='#ffffff',bg='#000000',command=search)\n",
    "readbtn.place(relx=.24,rely=.42)\n",
    "\n",
    "# Create Listen button\n",
    "lsnbtn=Button(win,text='Listen',font=('arial',20,'bold'),bd=7,width=15,fg='white',bg='black',command=listen)\n",
    "lsnbtn.place(relx=.50,rely=.42)\n",
    "\n",
    "# Create label for some important note\n",
    "implbl=Label(win,text='**If you want to Read and Listen simultaneously, then First click the Read Button and then Listen Button**',font=('arial',10,'bold'),bg='black',fg='white',)\n",
    "implbl.place(relx=.24,rely=.55)\n",
    "\n",
    "# call window to Run\n",
    "win.mainloop()"
   ]
  },
  {
   "cell_type": "code",
   "execution_count": null,
   "id": "f336a4c5-be6d-4d06-a29c-5551cca161e8",
   "metadata": {},
   "outputs": [],
   "source": []
  }
 ],
 "metadata": {
  "kernelspec": {
   "display_name": "Python 3 (ipykernel)",
   "language": "python",
   "name": "python3"
  },
  "language_info": {
   "codemirror_mode": {
    "name": "ipython",
    "version": 3
   },
   "file_extension": ".py",
   "mimetype": "text/x-python",
   "name": "python",
   "nbconvert_exporter": "python",
   "pygments_lexer": "ipython3",
   "version": "3.11.1"
  }
 },
 "nbformat": 4,
 "nbformat_minor": 5
}
