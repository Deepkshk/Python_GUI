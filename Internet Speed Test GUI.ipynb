{
 "cells": [
  {
   "cell_type": "markdown",
   "id": "21ea3bf5-b2bf-410d-b0f5-f94380438c4c",
   "metadata": {},
   "source": [
    "## Internet Speed Test GUI Program"
   ]
  },
  {
   "cell_type": "code",
   "execution_count": 1,
   "id": "3f9ac8ec-60d5-4a2e-ac2b-592aa3593115",
   "metadata": {},
   "outputs": [],
   "source": [
    "# import required libraries or modules\n",
    "from tkinter import *\n",
    "import speedtest"
   ]
  },
  {
   "cell_type": "code",
   "execution_count": 2,
   "id": "d3c2b8fd-fbf4-4fe8-a8fd-bc32aa4c57d1",
   "metadata": {},
   "outputs": [],
   "source": [
    "# create window or screen\n",
    "win=Tk()\n",
    "win.configure(bg='black')\n",
    "win.state('zoomed')\n",
    "win.resizable(width=False,height=False)\n",
    "\n",
    "# create label for main title\n",
    "titlelbl=Label(win,text='Internet Speed Test',font=('arial',45,'bold'),bg='black',fg='#e3be1b')\n",
    "titlelbl.place(relx=0.3,rely=0)\n",
    "\n",
    "# function for check speed button\n",
    "def st():\n",
    "    network=speedtest.Speedtest(secure=True)\n",
    "    download_speed=((network.download()/1024)/1024) # divide 2 times for Mbps\n",
    "    upload_speed=((network.upload()/1024)/1024) # divide 2 times for Mbps\n",
    "    downloadspeed_result=round(download_speed,2)\n",
    "    uploadspeed_result=round(upload_speed,2)\n",
    "    \n",
    "    # create label for download speed\n",
    "    download_result_lbl=Label(win,text=downloadspeed_result,font=('arial',30,'bold'),bg='black',fg='white')\n",
    "    download_result_lbl.place(relx=0.17,rely=0.62)\n",
    "    \n",
    "    # create label for upload speed\n",
    "    upload_result_lbl=Label(win,text=uploadspeed_result,font=('arial',30,'bold'),bg='black',fg='white')\n",
    "    upload_result_lbl.place(relx=0.62,rely=0.62)\n",
    "    \n",
    "\n",
    "# create button to check speed\n",
    "checkbtn=Button(win,text='Check Internet Speed',font=('arial',25,'bold'),bg='black',fg='white',bd=7,width=35,command=st)\n",
    "checkbtn.place(relx=0.21,rely=0.25)\n",
    "\n",
    "# create label for download speed heading\n",
    "downloadlbl=Label(win,text='Download Speed',font=('arial',25,'bold'),bg='black',fg='white')\n",
    "downloadlbl.place(relx=0.15,rely=0.5)\n",
    "\n",
    "# create label for upload speed heading\n",
    "downloadmbps=Label(win,text='Mbps',font=('arial',30,'bold'),bg='black',fg='white')\n",
    "downloadmbps.place(relx=0.25,rely=0.62)\n",
    "\n",
    "# create label for Mbps \n",
    "uploadlbl=Label(win,text='Upload Speed',font=('airal',25,'bold'),bg='black',fg='white')\n",
    "uploadlbl.place(relx=0.6,rely=0.5)\n",
    "\n",
    "# create label for Mbps\n",
    "uploadmbps=Label(win,text='Mbps',font=('arial',30,'bold'),bg='black',fg='white')\n",
    "uploadmbps.place(relx=0.70,rely=0.62)\n",
    "\n",
    "# call window to Run\n",
    "win.mainloop()"
   ]
  },
  {
   "cell_type": "code",
   "execution_count": null,
   "id": "9ac6c938-a7ca-4516-9b18-166c5d72eeae",
   "metadata": {},
   "outputs": [],
   "source": []
  }
 ],
 "metadata": {
  "kernelspec": {
   "display_name": "Python 3 (ipykernel)",
   "language": "python",
   "name": "python3"
  },
  "language_info": {
   "codemirror_mode": {
    "name": "ipython",
    "version": 3
   },
   "file_extension": ".py",
   "mimetype": "text/x-python",
   "name": "python",
   "nbconvert_exporter": "python",
   "pygments_lexer": "ipython3",
   "version": "3.11.1"
  }
 },
 "nbformat": 4,
 "nbformat_minor": 5
}
